{
 "cells": [
  {
   "cell_type": "code",
   "execution_count": 18,
   "id": "b518cbba",
   "metadata": {},
   "outputs": [],
   "source": [
    "#load in packages\n",
    "\n",
    "import pandas as pd\n",
    "import numpy as np\n",
    "import seaborn as sns\n",
    "import matplotlib.pyplot as plt"
   ]
  },
  {
   "cell_type": "code",
   "execution_count": 19,
   "id": "55eea14d",
   "metadata": {},
   "outputs": [
    {
     "name": "stderr",
     "output_type": "stream",
     "text": [
      "/var/folders/vl/lnfg4f0d5872pfxx4dys19km0000gn/T/ipykernel_68376/632812221.py:2: DtypeWarning: Columns (13,15) have mixed types. Specify dtype option on import or set low_memory=False.\n",
      "  df = pd.read_csv('../data/USPesticides_raw.csv')\n"
     ]
    },
    {
     "data": {
      "text/html": [
       "<div>\n",
       "<style scoped>\n",
       "    .dataframe tbody tr th:only-of-type {\n",
       "        vertical-align: middle;\n",
       "    }\n",
       "\n",
       "    .dataframe tbody tr th {\n",
       "        vertical-align: top;\n",
       "    }\n",
       "\n",
       "    .dataframe thead th {\n",
       "        text-align: right;\n",
       "    }\n",
       "</style>\n",
       "<table border=\"1\" class=\"dataframe\">\n",
       "  <thead>\n",
       "    <tr style=\"text-align: right;\">\n",
       "      <th></th>\n",
       "      <th>Sample ID</th>\n",
       "      <th>Commod</th>\n",
       "      <th>Pesticide Code</th>\n",
       "      <th>Pesticide Name</th>\n",
       "      <th>Test Class</th>\n",
       "      <th>Concentration</th>\n",
       "      <th>LOD</th>\n",
       "      <th>pp_</th>\n",
       "      <th>Confirm 1</th>\n",
       "      <th>Confirm 2</th>\n",
       "      <th>Annotate</th>\n",
       "      <th>Quantitate</th>\n",
       "      <th>Mean</th>\n",
       "      <th>Extract</th>\n",
       "      <th>Determ</th>\n",
       "      <th>EPA Tolerance (ppm)</th>\n",
       "    </tr>\n",
       "  </thead>\n",
       "  <tbody>\n",
       "    <tr>\n",
       "      <th>0</th>\n",
       "      <td>CA0401140004MKUS2</td>\n",
       "      <td>MK</td>\n",
       "      <td>125</td>\n",
       "      <td>Diphenylamine (DPA)</td>\n",
       "      <td>F</td>\n",
       "      <td>0.0001</td>\n",
       "      <td>0.00006</td>\n",
       "      <td>M</td>\n",
       "      <td>M</td>\n",
       "      <td>NaN</td>\n",
       "      <td>Q</td>\n",
       "      <td>SM</td>\n",
       "      <td>O</td>\n",
       "      <td>813</td>\n",
       "      <td>7.0</td>\n",
       "      <td>0.01</td>\n",
       "    </tr>\n",
       "    <tr>\n",
       "      <th>1</th>\n",
       "      <td>CA0401140150MKUS2</td>\n",
       "      <td>MK</td>\n",
       "      <td>125</td>\n",
       "      <td>Diphenylamine (DPA)</td>\n",
       "      <td>F</td>\n",
       "      <td>0.0001</td>\n",
       "      <td>0.00006</td>\n",
       "      <td>M</td>\n",
       "      <td>M</td>\n",
       "      <td>NaN</td>\n",
       "      <td>Q</td>\n",
       "      <td>SM</td>\n",
       "      <td>O</td>\n",
       "      <td>813</td>\n",
       "      <td>7.0</td>\n",
       "      <td>0.01</td>\n",
       "    </tr>\n",
       "    <tr>\n",
       "      <th>2</th>\n",
       "      <td>CA0401140273MKUS2</td>\n",
       "      <td>MK</td>\n",
       "      <td>125</td>\n",
       "      <td>Diphenylamine (DPA)</td>\n",
       "      <td>F</td>\n",
       "      <td>0.0001</td>\n",
       "      <td>0.00006</td>\n",
       "      <td>M</td>\n",
       "      <td>M</td>\n",
       "      <td>NaN</td>\n",
       "      <td>Q</td>\n",
       "      <td>SM</td>\n",
       "      <td>O</td>\n",
       "      <td>813</td>\n",
       "      <td>7.0</td>\n",
       "      <td>0.01</td>\n",
       "    </tr>\n",
       "    <tr>\n",
       "      <th>3</th>\n",
       "      <td>CA0401140319MKUS2</td>\n",
       "      <td>MK</td>\n",
       "      <td>125</td>\n",
       "      <td>Diphenylamine (DPA)</td>\n",
       "      <td>F</td>\n",
       "      <td>0.0001</td>\n",
       "      <td>0.00006</td>\n",
       "      <td>M</td>\n",
       "      <td>M</td>\n",
       "      <td>NaN</td>\n",
       "      <td>Q</td>\n",
       "      <td>SM</td>\n",
       "      <td>O</td>\n",
       "      <td>813</td>\n",
       "      <td>7.0</td>\n",
       "      <td>0.01</td>\n",
       "    </tr>\n",
       "    <tr>\n",
       "      <th>4</th>\n",
       "      <td>CA0401140328MKUS2</td>\n",
       "      <td>MK</td>\n",
       "      <td>125</td>\n",
       "      <td>Diphenylamine (DPA)</td>\n",
       "      <td>F</td>\n",
       "      <td>0.0001</td>\n",
       "      <td>0.00006</td>\n",
       "      <td>M</td>\n",
       "      <td>M</td>\n",
       "      <td>NaN</td>\n",
       "      <td>Q</td>\n",
       "      <td>SM</td>\n",
       "      <td>O</td>\n",
       "      <td>813</td>\n",
       "      <td>7.0</td>\n",
       "      <td>0.01</td>\n",
       "    </tr>\n",
       "  </tbody>\n",
       "</table>\n",
       "</div>"
      ],
      "text/plain": [
       "           Sample ID Commod Pesticide Code       Pesticide Name Test Class  \\\n",
       "0  CA0401140004MKUS2     MK            125  Diphenylamine (DPA)          F   \n",
       "1  CA0401140150MKUS2     MK            125  Diphenylamine (DPA)          F   \n",
       "2  CA0401140273MKUS2     MK            125  Diphenylamine (DPA)          F   \n",
       "3  CA0401140319MKUS2     MK            125  Diphenylamine (DPA)          F   \n",
       "4  CA0401140328MKUS2     MK            125  Diphenylamine (DPA)          F   \n",
       "\n",
       "   Concentration      LOD pp_ Confirm 1 Confirm 2 Annotate Quantitate Mean  \\\n",
       "0         0.0001  0.00006   M         M       NaN        Q         SM    O   \n",
       "1         0.0001  0.00006   M         M       NaN        Q         SM    O   \n",
       "2         0.0001  0.00006   M         M       NaN        Q         SM    O   \n",
       "3         0.0001  0.00006   M         M       NaN        Q         SM    O   \n",
       "4         0.0001  0.00006   M         M       NaN        Q         SM    O   \n",
       "\n",
       "  Extract  Determ EPA Tolerance (ppm)  \n",
       "0     813     7.0                0.01  \n",
       "1     813     7.0                0.01  \n",
       "2     813     7.0                0.01  \n",
       "3     813     7.0                0.01  \n",
       "4     813     7.0                0.01  "
      ]
     },
     "execution_count": 19,
     "metadata": {},
     "output_type": "execute_result"
    }
   ],
   "source": [
    "#load in data\n",
    "df = pd.read_csv('../data/USPesticides_raw.csv')\n",
    "df.head()"
   ]
  },
  {
   "cell_type": "markdown",
   "id": "82698237",
   "metadata": {},
   "source": [
    "# Exploratory Data Analysis (EDA) Questions\n",
    "---\n",
    "### A. Basic Structure & Quality\n",
    "1. How many **total samples** are there?  \n",
    "2. How many **unique commodities** and **unique pesticides** are tested?  \n",
    "3. Are there any **missing values** in critical fields like `Concentration`, `LOD`, or `EPA Tolerance`?  \n",
    "4. What is the **distribution of commodities** (fruits, vegetables, grains, etc.) in the dataset?  "
   ]
  },
  {
   "cell_type": "code",
   "execution_count": 20,
   "id": "95a68376",
   "metadata": {},
   "outputs": [
    {
     "name": "stdout",
     "output_type": "stream",
     "text": [
      "1. There are 616113 total samples in the dataset\n",
      "\n",
      "2.\n",
      "There are 132 unique commidities being tested\n",
      "There are 461 unique pesticides being tested\n",
      "\n",
      "3.\n",
      "                     missing_count\n",
      "Concentration                    0\n",
      "LOD                              0\n",
      "EPA Tolerance (ppm)          67402\n",
      "\n",
      "4.\n",
      "        count\n",
      "Commod       \n",
      "WR      30931\n",
      "AP      30559\n",
      "WU      30521\n",
      "GR      30375\n",
      "ST      26893\n",
      "PC      24789\n",
      "PE      23417\n",
      "CE      23056\n",
      "SP      20950\n",
      "PP      19904\n"
     ]
    },
    {
     "data": {
      "text/plain": [
       "<Figure size 1000x600 with 0 Axes>"
      ]
     },
     "metadata": {},
     "output_type": "display_data"
    },
    {
     "data": {
      "image/png": "[encoded data removed]",
      "text/plain": [
       "<Figure size 640x480 with 1 Axes>"
      ]
     },
     "metadata": {},
     "output_type": "display_data"
    }
   ],
   "source": [
    "#1\n",
    "print(f'1. There are {len(df)} total samples in the dataset\\n')\n",
    "\n",
    "#2 \n",
    "print('2.')\n",
    "print(f'There are {df['Commod'].nunique()} unique commidities being tested')\n",
    "print(f'There are {df['Pesticide Code'].nunique()} unique pesticides being tested\\n')\n",
    "\n",
    "#3\n",
    "crit_cols = [\"Concentration\", \"LOD\", \"EPA Tolerance (ppm)\"]\n",
    "missing_summary = df[crit_cols].isna().sum().rename(\"missing_count\").to_frame()\n",
    "print('3.')\n",
    "print(missing_summary)\n",
    "print()\n",
    "\n",
    "#4\n",
    "print('4.')\n",
    "top_commod = (\n",
    "    df['Commod'].value_counts()\n",
    "    .head(10)\n",
    "    .rename(\"count\")\n",
    "    .to_frame()\n",
    ")\n",
    "print(top_commod)\n",
    "plt.figure(figsize=(10,6))   # set figure size\n",
    "top_commod.plot(kind=\"bar\", color=\"skyblue\", edgecolor=\"black\")\n",
    "\n",
    "# Add titles and labels\n",
    "plt.title(\"Top 10 Commodities by Sample Count\", fontsize=16)\n",
    "plt.xlabel(\"Commodity Code\", fontsize=12)\n",
    "plt.ylabel(\"Number of Samples\", fontsize=12)\n",
    "\n",
    "# Rotate x-axis labels for readability\n",
    "plt.xticks(rotation=45)\n",
    "\n",
    "# Adjust layout to fit nicely\n",
    "plt.tight_layout()\n",
    "\n",
    "# Show the plot\n",
    "plt.show()"
   ]
  },
  {
   "cell_type": "markdown",
   "id": "4c424bbb",
   "metadata": {},
   "source": [
    "---"
   ]
  },
  {
   "cell_type": "markdown",
   "id": "9767353e",
   "metadata": {},
   "source": [
    "\n",
    "### B. Concentration & Detection\n",
    "5. Which **pesticides are most frequently detected**?  \n",
    "6. What is the **distribution of concentration values** for the top 5 pesticides?  \n"
   ]
  },
  {
   "cell_type": "code",
   "execution_count": null,
   "id": "2d015ded",
   "metadata": {},
   "outputs": [
    {
     "name": "stdout",
     "output_type": "stream",
     "text": [
      "5.\n",
      "                count\n",
      "Pesticide Name       \n",
      "Thiabendazole   26500\n",
      "Imidacloprid    22916\n",
      "Azoxystrobin    15412\n",
      "Boscalid        14977\n",
      "Pyraclostrobin  14481\n",
      "Fludioxonil     13850\n",
      "Imazalil        11563\n",
      "Acetamiprid     11368\n",
      "DDE p,p'        11338\n",
      "Iprodione       10984\n"
     ]
    }
   ],
   "source": [
    "#5\n",
    "print('5.')\n",
    "top_pesticides = (\n",
    "    df['Pesticide Name'].value_counts()\n",
    "    .head(10)\n",
    "    .rename(\"count\")\n",
    "    .to_frame()\n",
    ")\n",
    "print(top_pesticides)\n",
    "\n",
    "#6\n",
    "print('6.')\n",
    "top5_pesticides = top_pesticides.index[:5]\n",
    "concentration_distributions = df_full[df_full['Pesticide Name'].isin(top5_pesticides)].groupby('Pesticide Name')['Concentration'].describe()\n",
    "\n"
   ]
  },
  {
   "cell_type": "markdown",
   "id": "cdd6fd46",
   "metadata": {},
   "source": [
    "\n",
    "### C. Compliance & Safety\n",
    "9. How many samples **exceed the EPA tolerance**?  \n",
    "10. Which commodities most frequently **exceed tolerance levels**?  \n",
    "11. Are there pesticides with consistently **high rates of tolerance exceedance**?  \n",
    "\n",
    "### D. Patterns & Trends\n",
    "12. Do different **commodities share the same top pesticides**?  \n",
    "13. Are there pesticides that appear in **both domestic and imported samples** (if origin info is present)?  \n",
    "14. What is the **co-occurrence** of multiple pesticides in the same sample?  \n",
    "\n",
    "### E. Advanced Exploration\n",
    "15. What is the relationship between **LOD (detection sensitivity)** and the likelihood of reporting a positive detection?  \n",
    "16. Can we cluster commodities based on their **pesticide profiles**?  \n",
    "17. Are certain pesticides more likely to appear in **specific classes of commodities** (e.g., leafy greens vs. root vegetables)? \n",
    "\n",
    "---\n"
   ]
  },
  {
   "cell_type": "markdown",
   "id": "d6e1db2c",
   "metadata": {},
   "source": [
    "1."
   ]
  },
  {
   "cell_type": "markdown",
   "id": "ab90eed7",
   "metadata": {},
   "source": []
  }
 ],
 "metadata": {
  "kernelspec": {
   "display_name": "capstone",
   "language": "python",
   "name": "python3"
  },
  "language_info": {
   "codemirror_mode": {
    "name": "ipython",
    "version": 3
   },
   "file_extension": ".py",
   "mimetype": "text/x-python",
   "name": "python",
   "nbconvert_exporter": "python",
   "pygments_lexer": "ipython3",
   "version": "3.13.7"
  }
 },
 "nbformat": 4,
 "nbformat_minor": 5
}
