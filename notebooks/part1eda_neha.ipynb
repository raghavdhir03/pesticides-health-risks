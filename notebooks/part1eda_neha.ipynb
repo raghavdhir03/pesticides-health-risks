{
 "cells": [
  {
   "cell_type": "code",
   "execution_count": 2,
   "id": "78e0c3ce",
   "metadata": {},
   "outputs": [
    {
     "name": "stdout",
     "output_type": "stream",
     "text": [
      "fatal: destination path 'pesticides-health-risks' already exists and is not an empty directory.\n",
      "(50042520, 33)\n"
     ]
    }
   ],
   "source": [
    "import pandas as pd, glob\n",
    "\n",
    "# Run bash inside Python with !\n",
    "!git clone https://github.com/raghavdhir03/pesticides-health-risks.git\n",
    "\n",
    "# Read parquet files into one dataframe\n",
    "files = glob.glob(\"pesticides-health-risks/data/parquet/*.parquet\")\n",
    "df = pd.concat([pd.read_parquet(f) for f in files], ignore_index=True)\n",
    "print(df.shape)\n"
   ]
  },
  {
   "cell_type": "code",
   "execution_count": 3,
   "id": "2ee3550f",
   "metadata": {},
   "outputs": [
    {
     "data": {
      "text/html": [
       "<div>\n",
       "<style scoped>\n",
       "    .dataframe tbody tr th:only-of-type {\n",
       "        vertical-align: middle;\n",
       "    }\n",
       "\n",
       "    .dataframe tbody tr th {\n",
       "        vertical-align: top;\n",
       "    }\n",
       "\n",
       "    .dataframe thead th {\n",
       "        text-align: right;\n",
       "    }\n",
       "</style>\n",
       "<table border=\"1\" class=\"dataframe\">\n",
       "  <thead>\n",
       "    <tr style=\"text-align: right;\">\n",
       "      <th></th>\n",
       "      <th>SAMPLE_PK</th>\n",
       "      <th>COMMOD_x</th>\n",
       "      <th>COMMTYPE_x</th>\n",
       "      <th>LAB</th>\n",
       "      <th>PESTCODE</th>\n",
       "      <th>TESTCLASS</th>\n",
       "      <th>CONCEN</th>\n",
       "      <th>LOD</th>\n",
       "      <th>CONUNIT</th>\n",
       "      <th>CONFMETHOD</th>\n",
       "      <th>...</th>\n",
       "      <th>VARIETY</th>\n",
       "      <th>ORIGIN</th>\n",
       "      <th>COUNTRY</th>\n",
       "      <th>DISTTYPE</th>\n",
       "      <th>COMMTYPE_y</th>\n",
       "      <th>CLAIM</th>\n",
       "      <th>QUANTITY</th>\n",
       "      <th>GROWST</th>\n",
       "      <th>PACKST</th>\n",
       "      <th>DISTST</th>\n",
       "    </tr>\n",
       "  </thead>\n",
       "  <tbody>\n",
       "    <tr>\n",
       "      <th>0</th>\n",
       "      <td>1</td>\n",
       "      <td>AP</td>\n",
       "      <td>FR</td>\n",
       "      <td>NY1</td>\n",
       "      <td>024</td>\n",
       "      <td>C</td>\n",
       "      <td>None</td>\n",
       "      <td>0.004</td>\n",
       "      <td>M</td>\n",
       "      <td>None</td>\n",
       "      <td>...</td>\n",
       "      <td>Golden Delicious</td>\n",
       "      <td>1</td>\n",
       "      <td>None</td>\n",
       "      <td>D</td>\n",
       "      <td>FR</td>\n",
       "      <td>NC</td>\n",
       "      <td>None</td>\n",
       "      <td>None</td>\n",
       "      <td>WA</td>\n",
       "      <td>WA</td>\n",
       "    </tr>\n",
       "    <tr>\n",
       "      <th>1</th>\n",
       "      <td>1</td>\n",
       "      <td>AP</td>\n",
       "      <td>FR</td>\n",
       "      <td>NY1</td>\n",
       "      <td>042</td>\n",
       "      <td>C</td>\n",
       "      <td>0.073</td>\n",
       "      <td>0.006</td>\n",
       "      <td>M</td>\n",
       "      <td>D</td>\n",
       "      <td>...</td>\n",
       "      <td>Golden Delicious</td>\n",
       "      <td>1</td>\n",
       "      <td>None</td>\n",
       "      <td>D</td>\n",
       "      <td>FR</td>\n",
       "      <td>NC</td>\n",
       "      <td>None</td>\n",
       "      <td>None</td>\n",
       "      <td>WA</td>\n",
       "      <td>WA</td>\n",
       "    </tr>\n",
       "    <tr>\n",
       "      <th>2</th>\n",
       "      <td>1</td>\n",
       "      <td>AP</td>\n",
       "      <td>FR</td>\n",
       "      <td>NY1</td>\n",
       "      <td>052</td>\n",
       "      <td>C</td>\n",
       "      <td>None</td>\n",
       "      <td>0.002</td>\n",
       "      <td>M</td>\n",
       "      <td>None</td>\n",
       "      <td>...</td>\n",
       "      <td>Golden Delicious</td>\n",
       "      <td>1</td>\n",
       "      <td>None</td>\n",
       "      <td>D</td>\n",
       "      <td>FR</td>\n",
       "      <td>NC</td>\n",
       "      <td>None</td>\n",
       "      <td>None</td>\n",
       "      <td>WA</td>\n",
       "      <td>WA</td>\n",
       "    </tr>\n",
       "    <tr>\n",
       "      <th>3</th>\n",
       "      <td>1</td>\n",
       "      <td>AP</td>\n",
       "      <td>FR</td>\n",
       "      <td>NY1</td>\n",
       "      <td>057</td>\n",
       "      <td>C</td>\n",
       "      <td>None</td>\n",
       "      <td>0.003</td>\n",
       "      <td>M</td>\n",
       "      <td>None</td>\n",
       "      <td>...</td>\n",
       "      <td>Golden Delicious</td>\n",
       "      <td>1</td>\n",
       "      <td>None</td>\n",
       "      <td>D</td>\n",
       "      <td>FR</td>\n",
       "      <td>NC</td>\n",
       "      <td>None</td>\n",
       "      <td>None</td>\n",
       "      <td>WA</td>\n",
       "      <td>WA</td>\n",
       "    </tr>\n",
       "    <tr>\n",
       "      <th>4</th>\n",
       "      <td>1</td>\n",
       "      <td>AP</td>\n",
       "      <td>FR</td>\n",
       "      <td>NY1</td>\n",
       "      <td>065</td>\n",
       "      <td>C</td>\n",
       "      <td>None</td>\n",
       "      <td>0.002</td>\n",
       "      <td>M</td>\n",
       "      <td>None</td>\n",
       "      <td>...</td>\n",
       "      <td>Golden Delicious</td>\n",
       "      <td>1</td>\n",
       "      <td>None</td>\n",
       "      <td>D</td>\n",
       "      <td>FR</td>\n",
       "      <td>NC</td>\n",
       "      <td>None</td>\n",
       "      <td>None</td>\n",
       "      <td>WA</td>\n",
       "      <td>WA</td>\n",
       "    </tr>\n",
       "  </tbody>\n",
       "</table>\n",
       "<p>5 rows × 33 columns</p>\n",
       "</div>"
      ],
      "text/plain": [
       "  SAMPLE_PK COMMOD_x COMMTYPE_x  LAB PESTCODE TESTCLASS CONCEN    LOD CONUNIT  \\\n",
       "0         1       AP         FR  NY1      024         C   None  0.004       M   \n",
       "1         1       AP         FR  NY1      042         C  0.073  0.006       M   \n",
       "2         1       AP         FR  NY1      052         C   None  0.002       M   \n",
       "3         1       AP         FR  NY1      057         C   None  0.003       M   \n",
       "4         1       AP         FR  NY1      065         C   None  0.002       M   \n",
       "\n",
       "  CONFMETHOD  ...           VARIETY ORIGIN COUNTRY DISTTYPE COMMTYPE_y CLAIM  \\\n",
       "0       None  ...  Golden Delicious      1    None        D         FR    NC   \n",
       "1          D  ...  Golden Delicious      1    None        D         FR    NC   \n",
       "2       None  ...  Golden Delicious      1    None        D         FR    NC   \n",
       "3       None  ...  Golden Delicious      1    None        D         FR    NC   \n",
       "4       None  ...  Golden Delicious      1    None        D         FR    NC   \n",
       "\n",
       "  QUANTITY GROWST PACKST DISTST  \n",
       "0     None   None     WA     WA  \n",
       "1     None   None     WA     WA  \n",
       "2     None   None     WA     WA  \n",
       "3     None   None     WA     WA  \n",
       "4     None   None     WA     WA  \n",
       "\n",
       "[5 rows x 33 columns]"
      ]
     },
     "execution_count": 3,
     "metadata": {},
     "output_type": "execute_result"
    }
   ],
   "source": [
    "df.head()"
   ]
  },
  {
   "cell_type": "code",
   "execution_count": 4,
   "id": "2e4c9e28",
   "metadata": {},
   "outputs": [
    {
     "data": {
      "text/plain": [
       "Index(['SAMPLE_PK', 'COMMOD_x', 'COMMTYPE_x', 'LAB', 'PESTCODE', 'TESTCLASS',\n",
       "       'CONCEN', 'LOD', 'CONUNIT', 'CONFMETHOD', 'CONFMETHOD2', 'ANNOTATE',\n",
       "       'QUANTITATE', 'MEAN', 'EXTRACT', 'DETERMIN', 'STATE', 'YEAR', 'MONTH',\n",
       "       'DAY', 'SITE', 'COMMOD_y', 'SOURCE_ID', 'VARIETY', 'ORIGIN', 'COUNTRY',\n",
       "       'DISTTYPE', 'COMMTYPE_y', 'CLAIM', 'QUANTITY', 'GROWST', 'PACKST',\n",
       "       'DISTST'],\n",
       "      dtype='object')"
      ]
     },
     "execution_count": 4,
     "metadata": {},
     "output_type": "execute_result"
    }
   ],
   "source": [
    "df.columns"
   ]
  },
  {
   "cell_type": "markdown",
   "id": "1c55ae34",
   "metadata": {},
   "source": [
    "Com - Commodity Code (2-letters) for product collected. Example: AP=Apples\n",
    "Pest Code - FDA/PDP Pesticide Code (3-characters) for compound tested. Example: 011=Captan\n",
    "Pest Name - Pesticide/compound Name\n",
    "Tst - Code for Test Classification. Example: O=Pyrethroids\n",
    "Concen - Concentration of residue detected. Zero (0) for non-detect.\n",
    "LOD - Limit of Detection for pesticide/commodity pair\n",
    "pp_ - Concentration/LOD unit of measure (M=parts-per-million, B=pp-billion, T=pp-trillion)\n",
    "Co1 - Code for primary Confirmation method (1- or 2-letters). Example: LU=LC-MS/MS-triple quad\n",
    "Co2 - Code for secondary Confirmation method (1- or 2-letters)\n",
    "Ann - Code for Annotated Information (1- or 2-letters). Example: Q=Below Quantifiable Level\n",
    "Qua - Code for Quantitative method (1- or 2-letters). Example: E=Estimate\n",
    "Mea - Code for Mean Result finding (1- or 2-letters). Examples: ND=Non-Detect\n",
    "Ext - Code for Extraction method (3-digits). Example: 805=MDA Modified QuEChERS Method\n",
    "Det - Code for Determinative method (2-digits). Example: 35=GC/MS/MS - triple quadrupole\n",
    "Tol (ppm) - Established EPA Tolerance Level for pesticide/commodity pair in parts-per-million (ppm).\n",
    "Examples: 1.0 = 1.0 ppm, NT=No Tolerance; AL=FDA Action Level"
   ]
  },
  {
   "cell_type": "markdown",
   "id": "8dca5a49",
   "metadata": {},
   "source": [
    "A. Basic Structure & Quality\n",
    "How many total samples are there?\n",
    "How many unique commodities and unique pesticides are tested?\n",
    "Are there any missing values in critical fields like Concentration, LOD, or EPA Tolerance?\n",
    "What is the distribution of commodities (fruits, vegetables, grains, etc.) in the dataset?"
   ]
  },
  {
   "cell_type": "code",
   "execution_count": 5,
   "id": "48d16365",
   "metadata": {},
   "outputs": [
    {
     "name": "stdout",
     "output_type": "stream",
     "text": [
      "Total samples: 50042520\n",
      "Total columns: 33\n"
     ]
    }
   ],
   "source": [
    "# --- 1. How many total samples? ---\n",
    "total_samples = df.shape[0]\n",
    "print(\"Total samples:\", total_samples) #total number of pesticide test results (samples × pesticide × commodity combinations)\n",
    "total_columns = df.shape[1]\n",
    "print(\"Total columns:\" , total_columns)"
   ]
  },
  {
   "cell_type": "markdown",
   "id": "ffaf60e1",
   "metadata": {},
   "source": [
    "Map New Names because the Paraquet file names are confusing"
   ]
  },
  {
   "cell_type": "code",
   "execution_count": 6,
   "id": "9e6101c0",
   "metadata": {},
   "outputs": [],
   "source": [
    "rename_dict = {\n",
    "    \"COMMOD_x\": \"Commodity\",\n",
    "    \"PESTCODE\": \"Pest Code\",\n",
    "    \"TESTCLASS\": \"Test Class\",\n",
    "    \"CONCEN\": \"Concentration\",\n",
    "    \"LOD\": \"LOD\",\n",
    "    \"CONUNIT\": \"Unit\",\n",
    "    \"CONFMETHOD\": \"Confirm Method 1\",\n",
    "    \"CONFMETHOD2\": \"Confirm Method 2\",\n",
    "    \"ANNOTATE\": \"Annotation\",\n",
    "    \"QUANTITATE\": \"Quantitation\",\n",
    "    \"MEAN\": \"Result\",\n",
    "    \"EXTRACT\": \"Extraction\",\n",
    "    \"DETERMINI\": \"Determinative\",\n",
    "    \"TOL\": \"Tolerance (ppm)\"\n",
    "}\n",
    "\n",
    "df = df.rename(columns=rename_dict)\n",
    "\n"
   ]
  },
  {
   "cell_type": "code",
   "execution_count": 7,
   "id": "6c46158c",
   "metadata": {},
   "outputs": [
    {
     "data": {
      "text/html": [
       "<div>\n",
       "<style scoped>\n",
       "    .dataframe tbody tr th:only-of-type {\n",
       "        vertical-align: middle;\n",
       "    }\n",
       "\n",
       "    .dataframe tbody tr th {\n",
       "        vertical-align: top;\n",
       "    }\n",
       "\n",
       "    .dataframe thead th {\n",
       "        text-align: right;\n",
       "    }\n",
       "</style>\n",
       "<table border=\"1\" class=\"dataframe\">\n",
       "  <thead>\n",
       "    <tr style=\"text-align: right;\">\n",
       "      <th></th>\n",
       "      <th>SAMPLE_PK</th>\n",
       "      <th>Commodity</th>\n",
       "      <th>COMMTYPE_x</th>\n",
       "      <th>LAB</th>\n",
       "      <th>Pest Code</th>\n",
       "      <th>Test Class</th>\n",
       "      <th>Concentration</th>\n",
       "      <th>LOD</th>\n",
       "      <th>Unit</th>\n",
       "      <th>Confirm Method 1</th>\n",
       "      <th>...</th>\n",
       "      <th>VARIETY</th>\n",
       "      <th>ORIGIN</th>\n",
       "      <th>COUNTRY</th>\n",
       "      <th>DISTTYPE</th>\n",
       "      <th>COMMTYPE_y</th>\n",
       "      <th>CLAIM</th>\n",
       "      <th>QUANTITY</th>\n",
       "      <th>GROWST</th>\n",
       "      <th>PACKST</th>\n",
       "      <th>DISTST</th>\n",
       "    </tr>\n",
       "  </thead>\n",
       "  <tbody>\n",
       "    <tr>\n",
       "      <th>0</th>\n",
       "      <td>1</td>\n",
       "      <td>AP</td>\n",
       "      <td>FR</td>\n",
       "      <td>NY1</td>\n",
       "      <td>024</td>\n",
       "      <td>C</td>\n",
       "      <td>None</td>\n",
       "      <td>0.004</td>\n",
       "      <td>M</td>\n",
       "      <td>None</td>\n",
       "      <td>...</td>\n",
       "      <td>Golden Delicious</td>\n",
       "      <td>1</td>\n",
       "      <td>None</td>\n",
       "      <td>D</td>\n",
       "      <td>FR</td>\n",
       "      <td>NC</td>\n",
       "      <td>None</td>\n",
       "      <td>None</td>\n",
       "      <td>WA</td>\n",
       "      <td>WA</td>\n",
       "    </tr>\n",
       "    <tr>\n",
       "      <th>1</th>\n",
       "      <td>1</td>\n",
       "      <td>AP</td>\n",
       "      <td>FR</td>\n",
       "      <td>NY1</td>\n",
       "      <td>042</td>\n",
       "      <td>C</td>\n",
       "      <td>0.073</td>\n",
       "      <td>0.006</td>\n",
       "      <td>M</td>\n",
       "      <td>D</td>\n",
       "      <td>...</td>\n",
       "      <td>Golden Delicious</td>\n",
       "      <td>1</td>\n",
       "      <td>None</td>\n",
       "      <td>D</td>\n",
       "      <td>FR</td>\n",
       "      <td>NC</td>\n",
       "      <td>None</td>\n",
       "      <td>None</td>\n",
       "      <td>WA</td>\n",
       "      <td>WA</td>\n",
       "    </tr>\n",
       "    <tr>\n",
       "      <th>2</th>\n",
       "      <td>1</td>\n",
       "      <td>AP</td>\n",
       "      <td>FR</td>\n",
       "      <td>NY1</td>\n",
       "      <td>052</td>\n",
       "      <td>C</td>\n",
       "      <td>None</td>\n",
       "      <td>0.002</td>\n",
       "      <td>M</td>\n",
       "      <td>None</td>\n",
       "      <td>...</td>\n",
       "      <td>Golden Delicious</td>\n",
       "      <td>1</td>\n",
       "      <td>None</td>\n",
       "      <td>D</td>\n",
       "      <td>FR</td>\n",
       "      <td>NC</td>\n",
       "      <td>None</td>\n",
       "      <td>None</td>\n",
       "      <td>WA</td>\n",
       "      <td>WA</td>\n",
       "    </tr>\n",
       "    <tr>\n",
       "      <th>3</th>\n",
       "      <td>1</td>\n",
       "      <td>AP</td>\n",
       "      <td>FR</td>\n",
       "      <td>NY1</td>\n",
       "      <td>057</td>\n",
       "      <td>C</td>\n",
       "      <td>None</td>\n",
       "      <td>0.003</td>\n",
       "      <td>M</td>\n",
       "      <td>None</td>\n",
       "      <td>...</td>\n",
       "      <td>Golden Delicious</td>\n",
       "      <td>1</td>\n",
       "      <td>None</td>\n",
       "      <td>D</td>\n",
       "      <td>FR</td>\n",
       "      <td>NC</td>\n",
       "      <td>None</td>\n",
       "      <td>None</td>\n",
       "      <td>WA</td>\n",
       "      <td>WA</td>\n",
       "    </tr>\n",
       "    <tr>\n",
       "      <th>4</th>\n",
       "      <td>1</td>\n",
       "      <td>AP</td>\n",
       "      <td>FR</td>\n",
       "      <td>NY1</td>\n",
       "      <td>065</td>\n",
       "      <td>C</td>\n",
       "      <td>None</td>\n",
       "      <td>0.002</td>\n",
       "      <td>M</td>\n",
       "      <td>None</td>\n",
       "      <td>...</td>\n",
       "      <td>Golden Delicious</td>\n",
       "      <td>1</td>\n",
       "      <td>None</td>\n",
       "      <td>D</td>\n",
       "      <td>FR</td>\n",
       "      <td>NC</td>\n",
       "      <td>None</td>\n",
       "      <td>None</td>\n",
       "      <td>WA</td>\n",
       "      <td>WA</td>\n",
       "    </tr>\n",
       "  </tbody>\n",
       "</table>\n",
       "<p>5 rows × 33 columns</p>\n",
       "</div>"
      ],
      "text/plain": [
       "  SAMPLE_PK Commodity COMMTYPE_x  LAB Pest Code Test Class Concentration  \\\n",
       "0         1        AP         FR  NY1       024          C          None   \n",
       "1         1        AP         FR  NY1       042          C         0.073   \n",
       "2         1        AP         FR  NY1       052          C          None   \n",
       "3         1        AP         FR  NY1       057          C          None   \n",
       "4         1        AP         FR  NY1       065          C          None   \n",
       "\n",
       "     LOD Unit Confirm Method 1  ...           VARIETY ORIGIN COUNTRY DISTTYPE  \\\n",
       "0  0.004    M             None  ...  Golden Delicious      1    None        D   \n",
       "1  0.006    M                D  ...  Golden Delicious      1    None        D   \n",
       "2  0.002    M             None  ...  Golden Delicious      1    None        D   \n",
       "3  0.003    M             None  ...  Golden Delicious      1    None        D   \n",
       "4  0.002    M             None  ...  Golden Delicious      1    None        D   \n",
       "\n",
       "  COMMTYPE_y CLAIM QUANTITY GROWST PACKST DISTST  \n",
       "0         FR    NC     None   None     WA     WA  \n",
       "1         FR    NC     None   None     WA     WA  \n",
       "2         FR    NC     None   None     WA     WA  \n",
       "3         FR    NC     None   None     WA     WA  \n",
       "4         FR    NC     None   None     WA     WA  \n",
       "\n",
       "[5 rows x 33 columns]"
      ]
     },
     "execution_count": 7,
     "metadata": {},
     "output_type": "execute_result"
    }
   ],
   "source": [
    "df.head()"
   ]
  },
  {
   "cell_type": "code",
   "execution_count": 8,
   "id": "dd698a1a",
   "metadata": {},
   "outputs": [
    {
     "name": "stdout",
     "output_type": "stream",
     "text": [
      "['SAMPLE_PK', 'Commodity', 'COMMTYPE_x', 'LAB', 'Pest Code', 'Test Class', 'Concentration', 'LOD', 'Unit', 'Confirm Method 1', 'Confirm Method 2', 'Annotation', 'Quantitation', 'Result', 'Extraction', 'DETERMIN', 'STATE', 'YEAR', 'MONTH', 'DAY', 'SITE', 'COMMOD_y', 'SOURCE_ID', 'VARIETY', 'ORIGIN', 'COUNTRY', 'DISTTYPE', 'COMMTYPE_y', 'CLAIM', 'QUANTITY', 'GROWST', 'PACKST', 'DISTST']\n"
     ]
    }
   ],
   "source": [
    "print(df.columns.tolist())\n"
   ]
  },
  {
   "cell_type": "code",
   "execution_count": 9,
   "id": "02093427",
   "metadata": {},
   "outputs": [
    {
     "name": "stdout",
     "output_type": "stream",
     "text": [
      "Unique commodities: 134\n",
      "Unique pesticides: 806\n"
     ]
    }
   ],
   "source": [
    "# --- 2. Unique commodities and pesticides ---\n",
    "unique_commodities = df['Commodity'].nunique()\n",
    "unique_pesticides = df['Pest Code'].nunique()\n",
    "\n",
    "print(\"Unique commodities:\", unique_commodities)\n",
    "print(\"Unique pesticides:\", unique_pesticides)\n"
   ]
  },
  {
   "cell_type": "code",
   "execution_count": 11,
   "id": "5ccc0b2f",
   "metadata": {},
   "outputs": [
    {
     "name": "stdout",
     "output_type": "stream",
     "text": [
      "\n",
      "Missing values in critical fields:\n",
      "Concentration    49410045\n",
      "LOD                     0\n",
      "dtype: int64\n"
     ]
    }
   ],
   "source": [
    "\n",
    "# --- 3. Missing values in critical fields ---\n",
    "critical_cols = ['Concentration', 'LOD'] # add in tolerance later \n",
    "missing = df[critical_cols].isnull().sum()\n",
    "\n",
    "print(\"\\nMissing values in critical fields:\")\n",
    "print(missing)"
   ]
  },
  {
   "cell_type": "code",
   "execution_count": 19,
   "id": "b2dc0362",
   "metadata": {},
   "outputs": [
    {
     "data": {
      "image/png": "[encoded data removed]",
      "text/plain": [
       "<Figure size 1200x500 with 1 Axes>"
      ]
     },
     "metadata": {},
     "output_type": "display_data"
    }
   ],
   "source": [
    "import matplotlib.pyplot as plt\n",
    "import seaborn as sns\n",
    "# --- 4. Distribution of commodities ---\n",
    "plt.figure(figsize=(12,5))\n",
    "df['Commodity'].value_counts().head(15).plot(kind='bar', color = 'darkgreen')\n",
    "plt.title(\"Top 15 Commodities by Sample Count\")\n",
    "plt.ylabel(\"Number of Samples\")\n",
    "plt.xticks(rotation=45)\n",
    "plt.show()"
   ]
  },
  {
   "cell_type": "markdown",
   "id": "7a399b36",
   "metadata": {},
   "source": [
    "GB → Green Beans\n",
    "\n",
    "WS → Winter Squash\n",
    "\n",
    "AP → Apples\n",
    "\n",
    "GR → Grapes\n",
    "\n",
    "PO → Potatoes\n",
    "\n",
    "ST → Strawberries\n",
    "\n",
    "TO → Tomatoes\n",
    "\n",
    "MK → Milk\n",
    "\n",
    "CE → Celery\n",
    "\n",
    "CR → Carrots\n",
    "\n",
    "SS → Summer Squash\n",
    "\n",
    "PP → Sweet Bell Peppers\n",
    "\n",
    "PE → Pears\n",
    "\n",
    "PC → Peaches\n",
    "\n",
    "LT → Lettuce"
   ]
  },
  {
   "cell_type": "markdown",
   "id": "37b6fe57",
   "metadata": {},
   "source": [
    "B. Concentration & Detection\n",
    "Which pesticides are most frequently detected?\n",
    "What is the distribution of concentration values for the top 5 pesticides?"
   ]
  },
  {
   "cell_type": "code",
   "execution_count": null,
   "id": "2a3f9c37",
   "metadata": {},
   "outputs": [
    {
     "name": "stdout",
     "output_type": "stream",
     "text": [
      "\n",
      "Top 10 most frequently detected pesticides:\n",
      "Pest Code\n",
      "157    29189\n",
      "967    22916\n",
      "B48    15412\n",
      "B75    14977\n",
      "B61    14481\n",
      "B23    13850\n",
      "604    12395\n",
      "626    12111\n",
      "B80    11368\n",
      "910    11341\n",
      "Name: count, dtype: int64\n"
     ]
    }
   ],
   "source": [
    "# --- 1. Most frequently detected pesticides ---\n",
    "# Convert Concentration column to numeric, coercing errors to NaN\n",
    "df['Concentration'] = pd.to_numeric(df['Concentration'], errors='coerce')\n",
    "\n",
    "# Treat anything with Concentration > 0 as detected\n",
    "detected = df[df['Concentration'] > 0]\n",
    "top_pesticides = detected['Pest Code'].value_counts().head(10)\n",
    "\n",
    "print(\"\\nTop 10 most frequently detected pesticides:\")\n",
    "print(top_pesticides)"
   ]
  },
  {
   "cell_type": "code",
   "execution_count": 20,
   "id": "765557e0",
   "metadata": {},
   "outputs": [
    {
     "data": {
      "image/png": "[encoded data removed]",
      "text/plain": [
       "<Figure size 1200x600 with 1 Axes>"
      ]
     },
     "metadata": {},
     "output_type": "display_data"
    }
   ],
   "source": [
    "# --- 2. Distribution of concentration values for top 5 pesticides ---\n",
    "top5 = top_pesticides.index[:5]\n",
    "df_top5 = detected[detected['Pest Code'].isin(top5)]\n",
    "\n",
    "plt.figure(figsize=(12,6))\n",
    "sns.boxplot(data=df_top5, x=\"Pest Code\", y=\"Concentration\")\n",
    "plt.title(\"Distribution of Concentrations for Top 5 Pesticides\")\n",
    "plt.ylabel(\"Concentration (ppm)\")\n",
    "plt.xticks(rotation=45)\n",
    "plt.show()"
   ]
  }
 ],
 "metadata": {
  "kernelspec": {
   "display_name": "base",
   "language": "python",
   "name": "python3"
  },
  "language_info": {
   "codemirror_mode": {
    "name": "ipython",
    "version": 3
   },
   "file_extension": ".py",
   "mimetype": "text/x-python",
   "name": "python",
   "nbconvert_exporter": "python",
   "pygments_lexer": "ipython3",
   "version": "3.11.0"
  }
 },
 "nbformat": 4,
 "nbformat_minor": 5
}
